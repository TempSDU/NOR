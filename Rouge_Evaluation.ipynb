{
 "cells": [
  {
   "cell_type": "code",
   "execution_count": null,
   "metadata": {
    "collapsed": true
   },
   "outputs": [],
   "source": [
    "import numpy as np\n",
    "import pandas as pd\n",
    "from pandas import DataFrame\n",
    "from pyrouge import Rouge155\n",
    "import logging"
   ]
  },
  {
   "cell_type": "code",
   "execution_count": null,
   "metadata": {
    "collapsed": true
   },
   "outputs": [],
   "source": [
    "def read_comments(file_name):\n",
    "    with open(file_name,'r') as f:\n",
    "        file_content = f.readlines()\n",
    "    comments = []\n",
    "    for line in file_content:\n",
    "        comments.append(line[:-1].split())\n",
    "    return comments"
   ]
  },
  {
   "cell_type": "code",
   "execution_count": null,
   "metadata": {
    "collapsed": true
   },
   "outputs": [],
   "source": [
    "def build_vocab(file_name,min_num):\n",
    "    with open(file_name,'r') as f:\n",
    "        file_content = f.readlines()\n",
    "    word_to_int = {}\n",
    "    int_to_word = {}\n",
    "    words_num = 0\n",
    "    for line in file_content:\n",
    "        line = line[:-1].split('\\t')\n",
    "        if int(line[2]) >= min_num:\n",
    "            word_to_int[line[1]] = int(line[0])\n",
    "            int_to_word[int(line[0])] = line[1] \n",
    "            words_num += 1\n",
    "        else:\n",
    "            break\n",
    "    word_to_int['<UNK>'] = words_num+1\n",
    "    int_to_word[words_num+1] = '<UNK>'\n",
    "    return word_to_int,int_to_word"
   ]
  },
  {
   "cell_type": "code",
   "execution_count": null,
   "metadata": {
    "collapsed": true
   },
   "outputs": [],
   "source": [
    "def convert_comments(comments,word_to_int,int_to_word):\n",
    "    comments_to_int = []\n",
    "    for comment in comments:\n",
    "        comment_to_int = [word_to_int[word] if word_to_int.get(word) != None else word_to_int['<UNK>'] for word in comment]  \n",
    "        comments_to_int.append(comment_to_int)\n",
    "    return comments_to_int"
   ]
  },
  {
   "cell_type": "code",
   "execution_count": null,
   "metadata": {
    "collapsed": true
   },
   "outputs": [],
   "source": [
    "def id_seq_to_word_seq(id_seq,id_vocab):\n",
    "    return ' '.join([id_vocab[id] for id in id_seq])"
   ]
  },
  {
   "cell_type": "code",
   "execution_count": null,
   "metadata": {
    "collapsed": true
   },
   "outputs": [],
   "source": [
    "def prepare_evaluation(data_path,comments,int_to_word,word_to_int):\n",
    "    with open(data_path,'r') as f:\n",
    "        content = f.readlines()\n",
    "    model_comments = {}\n",
    "    for line in content:\n",
    "        line = line[:-1].split('\\t')\n",
    "        if int(line[2]) == 1:\n",
    "            model_comments[(line[0],line[1])] = [id_seq_to_word_seq(comments[int(comment)],int_to_word) for comment in line[3].split('|')]\n",
    "    return model_comments"
   ]
  },
  {
   "cell_type": "code",
   "execution_count": null,
   "metadata": {
    "collapsed": true
   },
   "outputs": [],
   "source": [
    "def read_system_comments(data_path):\n",
    "    system_comments = {}\n",
    "    with open(data_path,'r') as f:\n",
    "        content = f.readlines()\n",
    "    for line in content:\n",
    "        line = line.split('\\t')\n",
    "        system_comments[(line[0],line[1])] = line[2][:-1]\n",
    "    return system_comments   "
   ]
  },
  {
   "cell_type": "code",
   "execution_count": null,
   "metadata": {
    "collapsed": true
   },
   "outputs": [],
   "source": [
    "comments_path = 'dataset/text.dat'\n",
    "vocab_path = 'dataset/vocab.dat'\n",
    "min_num = 5"
   ]
  },
  {
   "cell_type": "code",
   "execution_count": null,
   "metadata": {
    "collapsed": false
   },
   "outputs": [],
   "source": [
    "comments = read_comments(comments_path)\n",
    "comments"
   ]
  },
  {
   "cell_type": "code",
   "execution_count": null,
   "metadata": {
    "collapsed": true
   },
   "outputs": [],
   "source": [
    "word_to_int,int_to_word = build_vocab(vocab_path,min_num)\n",
    "vocab_size = len(word_to_int)"
   ]
  },
  {
   "cell_type": "code",
   "execution_count": null,
   "metadata": {
    "collapsed": false
   },
   "outputs": [],
   "source": [
    "comments = convert_comments(comments,word_to_int,int_to_word)\n",
    "comments"
   ]
  },
  {
   "cell_type": "code",
   "execution_count": null,
   "metadata": {
    "collapsed": true
   },
   "outputs": [],
   "source": [
    "data_path = 'dataset/testdata_tops.dat'\n",
    "model_tops_comments = prepare_evaluation(data_path,comments,int_to_word,word_to_int)"
   ]
  },
  {
   "cell_type": "code",
   "execution_count": null,
   "metadata": {
    "collapsed": true
   },
   "outputs": [],
   "source": [
    "data_path = 'dataset/testdata_downs.dat'\n",
    "model_downs_comments = prepare_evaluation(data_path,comments,int_to_word,word_to_int)"
   ]
  },
  {
   "cell_type": "code",
   "execution_count": null,
   "metadata": {
    "collapsed": true
   },
   "outputs": [],
   "source": [
    "nfr_system_tops_comments_path = 'system_comments/system_tops_comments.dat'\n",
    "nfr_system_downs_comments_path = 'system_comments/system_downs_comments.dat'"
   ]
  },
  {
   "cell_type": "code",
   "execution_count": null,
   "metadata": {
    "collapsed": true
   },
   "outputs": [],
   "source": [
    "nfr_system_tops_comments = read_system_comments(nfr_system_tops_comments_path)\n",
    "nfr_system_downs_comments = read_system_comments(nfr_system_downs_comments_path)"
   ]
  },
  {
   "cell_type": "code",
   "execution_count": null,
   "metadata": {
    "collapsed": true
   },
   "outputs": [],
   "source": [
    "F = open('rouge/rouge_conf.xml','w')\n",
    "F.write('<ROUGE-EVAL version=\\\"1.55\\\">\\n')\n",
    "index = 1"
   ]
  },
  {
   "cell_type": "code",
   "execution_count": null,
   "metadata": {
    "collapsed": true
   },
   "outputs": [],
   "source": [
    "for combination,comments in model_tops_comments.items():\n",
    "    F.write('\\t<EVAL ID=\\\"'+str(index)+'\\\">\\n')\n",
    "    F.write('\\t\\t<MODEL-ROOT>model</MODEL-ROOT>\\n')\n",
    "    F.write('\\t\\t<PEER-ROOT>system</PEER-ROOT>\\n')\n",
    "    F.write('\\t\\t<INPUT-FORMAT TYPE=\\\"SEE\\\">\\n')\n",
    "    F.write('\\t\\t</INPUT-FORMAT>\\n')\n",
    "    F.write('\\t\\t<PEERS>\\n')\n",
    "    with open('rouge/system/nfr.'+str(index)+'.txt','w') as f:\n",
    "        if nfr_system_tops_comments.get(combination) != None:\n",
    "            f.write(nfr_system_tops_comments[combination])\n",
    "        else:\n",
    "            f.write('')\n",
    "    F.write('\\t\\t\\t<P ID=\\\"nfr\\\">'+'nfr.'+str(index)+'.txt'+'</P>\\n')\n",
    "    F.write('\\t\\t</PEERS>\\n')\n",
    "    F.write('\\t\\t<MODELS>\\n')\n",
    "    i = 1\n",
    "    for comment in comments:\n",
    "        with open('rouge/model/common.'+str(i)+'.'+str(index)+'.txt','w') as f:\n",
    "            f.write(comment)\n",
    "        F.write('\\t\\t\\t<M ID=\\\"'+str(i)+'\\\">'+'common.'+str(i)+'.'+str(index)+'.txt'+'</M>\\n')\n",
    "        i += 1\n",
    "    F.write('\\t\\t</MODELS>\\n')\n",
    "    F.write('\\t</EVAL>\\n')\n",
    "    index += 1"
   ]
  },
  {
   "cell_type": "code",
   "execution_count": null,
   "metadata": {
    "collapsed": true
   },
   "outputs": [],
   "source": [
    "for combination,comments in model_downs_comments.items():\n",
    "    F.write('\\t<EVAL ID=\\\"'+str(index)+'\\\">\\n')\n",
    "    F.write('\\t\\t<MODEL-ROOT>model</MODEL-ROOT>\\n')\n",
    "    F.write('\\t\\t<PEER-ROOT>system</PEER-ROOT>\\n')\n",
    "    F.write('\\t\\t<INPUT-FORMAT TYPE=\\\"SEE\\\">\\n')\n",
    "    F.write('\\t\\t</INPUT-FORMAT>\\n')\n",
    "    F.write('\\t\\t<PEERS>\\n')\n",
    "    with open('rouge/system/nfr.'+str(index)+'.txt','w') as f:\n",
    "        if nfr_system_downs_comments.get(combination) != None:\n",
    "            f.write(nfr_system_downs_comments[combination])\n",
    "        else:\n",
    "            f.write('')\n",
    "    F.write('\\t\\t\\t<P ID=\\\"nfr\\\">'+'nfr.'+str(index)+'.txt'+'</P>\\n')\n",
    "    F.write('\\t\\t</PEERS>\\n')\n",
    "    F.write('\\t\\t<MODELS>\\n')\n",
    "    i = 1\n",
    "    for comment in comments:\n",
    "        with open('rouge/model/common.'+str(i)+'.'+str(index)+'.txt','w') as f:\n",
    "            f.write(comment)\n",
    "        F.write('\\t\\t\\t<M ID=\\\"'+str(i)+'\\\">'+'common.'+str(i)+'.'+str(index)+'.txt'+'</M>\\n')\n",
    "        i += 1\n",
    "    F.write('\\t\\t</MODELS>\\n')\n",
    "    F.write('\\t</EVAL>\\n')\n",
    "    index += 1"
   ]
  },
  {
   "cell_type": "code",
   "execution_count": null,
   "metadata": {
    "collapsed": true
   },
   "outputs": [],
   "source": [
    "F.write('</ROUGE-EVAL>\\n')\n",
    "F.close()"
   ]
  },
  {
   "cell_type": "code",
   "execution_count": null,
   "metadata": {
    "collapsed": true
   },
   "outputs": [],
   "source": [
    "system_dir = 'rouge/system'\n",
    "model_dir = 'rouge/model'\n",
    "r = Rouge155(log_level=logging.ERROR)\n",
    "r.convert_summaries_to_rouge_format(system_dir,system_dir)\n",
    "r.convert_summaries_to_rouge_format(model_dir,model_dir)"
   ]
  },
  {
   "cell_type": "code",
   "execution_count": null,
   "metadata": {
    "collapsed": true
   },
   "outputs": [],
   "source": [
    "#ROUGE-1.5.5.pl -n 4 -2 4 -u -a rouge_conf.xml"
   ]
  }
 ],
 "metadata": {
  "kernelspec": {
   "display_name": "Python 3",
   "language": "python",
   "name": "python3"
  },
  "language_info": {
   "codemirror_mode": {
    "name": "ipython",
    "version": 3
   },
   "file_extension": ".py",
   "mimetype": "text/x-python",
   "name": "python",
   "nbconvert_exporter": "python",
   "pygments_lexer": "ipython3",
   "version": "3.5.2"
  }
 },
 "nbformat": 4,
 "nbformat_minor": 1
}
